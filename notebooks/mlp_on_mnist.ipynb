{
  "cells": [
    {
      "cell_type": "markdown",
      "metadata": {
        "colab_type": "text",
        "id": "Yu7u1mNfnxVP"
      },
      "source": [
        "**Copyright 2019 The Sonnet Authors. All Rights Reserved.**\n",
        "\n",
        "Licensed under the Apache License, Version 2.0 (the \"License\");\n",
        "you may not use this file except in compliance with the License.\n",
        "You may obtain a copy of the License at\n",
        "\n",
        "   http://www.apache.org/licenses/LICENSE-2.0\n",
        "\n",
        "Unless required by applicable law or agreed to in writing, software\n",
        "distributed under the License is distributed on an \"AS IS\" BASIS,\n",
        "WITHOUT WARRANTIES OR CONDITIONS OF ANY KIND, either express or  implied.\n",
        "See the License for the specific language governing permissions and\n",
        "limitations under the License.\n",
        "\n",
        "---"
      ]
    },
    {
      "cell_type": "markdown",
      "metadata": {
        "colab_type": "text",
        "id": "WAfR3cvnoGMB"
      },
      "source": [
        "# Preamble"
      ]
    },
    {
      "cell_type": "code",
      "execution_count": 0,
      "metadata": {
        "colab": {},
        "colab_type": "code",
        "id": "XnWX2azUDuCl"
      },
      "outputs": [],
      "source": [
        "!pip install tf-nightly-gpu-2.0-preview\n",
        "!pip install tensorflow-datasets\n",
        "!pip install git+https://github.com/deepmind/sonnet@v2\n",
        "\n",
        "# This adds a fancy progress bar in the \"training\" section.\n",
        "!pip install tqdm"
      ]
    },
    {
      "cell_type": "code",
      "execution_count": 0,
      "metadata": {
        "colab": {},
        "colab_type": "code",
        "id": "YKKVVzrA61Wv"
      },
      "outputs": [],
      "source": [
        "from __future__ import absolute_import\n",
        "from __future__ import division\n",
        "from __future__ import print_function"
      ]
    },
    {
      "cell_type": "code",
      "execution_count": 0,
      "metadata": {
        "colab": {},
        "colab_type": "code",
        "id": "mn5ofK4-D1Qk"
      },
      "outputs": [],
      "source": [
        "import sonnet as snt\n",
        "import tensorflow as tf\n",
        "import tensorflow_datasets as tfds\n"
      ]
    },
    {
      "cell_type": "code",
      "execution_count": 0,
      "metadata": {
        "colab": {
          "base_uri": "https://localhost:8080/",
          "height": 50
        },
        "colab_type": "code",
        "id": "Rpp_houJEHr9",
        "outputId": "40bd431e-77d9-47b8-9e53-62f3f69aaba9"
      },
      "outputs": [
        {
          "name": "stdout",
          "output_type": "stream",
          "text": [
            "TensorFlow version: 2.0.0-dev20190531\n",
            "    Sonnet version: 2.0.0a0\n"
          ]
        }
      ],
      "source": [
        "print(\"TensorFlow version: {}\".format(tf.__version__))\n",
        "print(\"    Sonnet version: {}\".format(snt.__version__))"
      ]
    },
    {
      "cell_type": "markdown",
      "metadata": {
        "colab_type": "text",
        "id": "UYYmqvOKfNbk"
      },
      "source": [
        "# Dataset\n",
        "\n",
        "We need to get our dataset in a state where we can iterate over it easily. The TensorFlow Datasets package provides a simple API for this. It will download the dataset and prepare it for us to speedily process on a GPU. We can also add our own pre-processing functions to mutate the dataset before our model sees it:"
      ]
    },
    {
      "cell_type": "code",
      "execution_count": 0,
      "metadata": {
        "colab": {},
        "colab_type": "code",
        "id": "UkBRriaQEr4z"
      },
      "outputs": [],
      "source": [
        "batch_size = 100\n",
        "\n",
        "def process_batch(images, labels):\n",
        "  images = tf.squeeze(images, axis=[-1])\n",
        "  images = tf.cast(images, dtype=tf.float32)\n",
        "  images = ((images / 255.) - .5) * 2.\n",
        "  return images, labels\n",
        "\n",
        "def mnist(split):\n",
        "  dataset = tfds.load(\"mnist\", split=split, as_supervised=True)\n",
        "  dataset = dataset.map(process_batch)\n",
        "  dataset = dataset.batch(100)\n",
        "  dataset = dataset.prefetch(tf.data.experimental.AUTOTUNE)\n",
        "  dataset = dataset.cache()\n",
        "  return dataset\n",
        "\n",
        "mnist_train = mnist(\"train\").shuffle(10)\n",
        "mnist_test = mnist(\"test\")"
      ]
    },
    {
      "cell_type": "markdown",
      "metadata": {
        "colab_type": "text",
        "id": "JfOCWVGEfgcq"
      },
      "source": [
        "MNIST contains `28x28` greyscale handwritten digits. Let's take a look at one:"
      ]
    },
    {
      "cell_type": "code",
      "execution_count": 0,
      "metadata": {
        "colab": {
          "base_uri": "https://localhost:8080/",
          "height": 269
        },
        "colab_type": "code",
        "id": "I_yM0TVjFCZq",
        "outputId": "16bbf599-11e0-49c0-e40c-0b375ce9e5eb"
      },
      "outputs": [
        {
          "data": {
            "image/png": "[encoded data removed]",
            "text/plain": [
              "\u003cFigure size 432x288 with 1 Axes\u003e"
            ]
          },
          "metadata": {
            "tags": []
          },
          "output_type": "display_data"
        }
      ],
      "source": [
        "import matplotlib.pyplot as plt\n",
        "\n",
        "images, _ = next(iter(mnist_test))\n",
        "plt.imshow(images[0]);"
      ]
    },
    {
      "cell_type": "markdown",
      "metadata": {
        "colab_type": "text",
        "id": "d7bsizs5gK3K"
      },
      "source": [
        "# Sonnet\n",
        "\n",
        "The next step is to define a model. In Sonnet everything that contains TensorFlow variables (`tf.Variable`) extends `snt.Module`, this includes low level neural network components (e.g. `snt.Linear`,  `snt.Conv2D`), larger nets containing subcomponents (e.g. `snt.nets.MLP`), optimizers (e.g. `snt.optimizers.Adam`) and whatever else you can think of.\n",
        "\n",
        "Modules provide a simple abstraction for storing parameters (and `Variable`s used for other purposes, like for storing moving avergages in `BatchNorm`).\n",
        "\n",
        "To find all the parameters for a given module, simply do: `module.trainable_parameters`. This will return a `tuple` of all the parameters that exist for this module, or any module it references:"
      ]
    },
    {
      "cell_type": "markdown",
      "metadata": {
        "colab_type": "text",
        "id": "GrN37pi1o4HT"
      },
      "source": [
        "## Building the model"
      ]
    },
    {
      "cell_type": "markdown",
      "metadata": {
        "colab_type": "text",
        "id": "c6XoN56S2lSW"
      },
      "source": [
        "In Sonnet you build neural networks out of `snt.Module`s. In this case we'll build a multi-layer perceptron as a new class with a `__call__` method that computes the logits by passing the input through a number of fully connected layers, with a ReLU non-linearity."
      ]
    },
    {
      "cell_type": "code",
      "execution_count": 0,
      "metadata": {
        "colab": {},
        "colab_type": "code",
        "id": "hgjyB9yhFclD"
      },
      "outputs": [],
      "source": [
        "class MLP(snt.Module):\n",
        "\n",
        "  def __init__(self):\n",
        "    super(MLP, self).__init__()\n",
        "    self.flatten = snt.Flatten()\n",
        "    self.hidden1 = snt.Linear(1024, name=\"hidden1\")\n",
        "    self.hidden2 = snt.Linear(1024, name=\"hidden2\")\n",
        "    self.logits = snt.Linear(10, name=\"logits\")\n",
        "\n",
        "  def __call__(self, images):\n",
        "    output = self.flatten(images)\n",
        "    output = tf.nn.relu(self.hidden1(output))\n",
        "    output = tf.nn.relu(self.hidden2(output))\n",
        "    output = self.logits(output)\n",
        "    return output"
      ]
    },
    {
      "cell_type": "markdown",
      "metadata": {
        "colab_type": "text",
        "id": "0i03px8y8gf7"
      },
      "source": [
        "Now we'll create an instance of our class whose weights will be randomly initialized. We'll train this MLP such that it learns to recognize digits in the MNIST dataset."
      ]
    },
    {
      "cell_type": "code",
      "execution_count": 0,
      "metadata": {
        "colab": {
          "base_uri": "https://localhost:8080/",
          "height": 34
        },
        "colab_type": "code",
        "id": "XqL8oIMqGAnU",
        "outputId": "294be71b-9cf1-4986-bdfd-d7104c9a9467"
      },
      "outputs": [
        {
          "data": {
            "text/plain": [
              "MLP()"
            ]
          },
          "execution_count": 8,
          "metadata": {
            "tags": []
          },
          "output_type": "execute_result"
        }
      ],
      "source": [
        "mlp = MLP()\n",
        "mlp"
      ]
    },
    {
      "cell_type": "markdown",
      "metadata": {
        "colab_type": "text",
        "id": "snzkUUh9oXPy"
      },
      "source": [
        "## Using the model"
      ]
    },
    {
      "cell_type": "markdown",
      "metadata": {
        "colab_type": "text",
        "id": "On8wI6VwpDPm"
      },
      "source": [
        "Let's feed an example input through the model and see what it predicts. Since the model is randomly initialized there is a 1/10 chance that it will predict the right class!"
      ]
    },
    {
      "cell_type": "code",
      "execution_count": 0,
      "metadata": {
        "colab": {
          "base_uri": "https://localhost:8080/",
          "height": 286
        },
        "colab_type": "code",
        "id": "4T-qmIc0GHfP",
        "outputId": "df6c2297-d7fd-4b81-a972-ffec186ae397"
      },
      "outputs": [
        {
          "name": "stdout",
          "output_type": "stream",
          "text": [
            "Predicted class: 2 actual class: 6\n"
          ]
        },
        {
          "data": {
            "image/png": "[encoded data removed]",
            "text/plain": [
              "\u003cFigure size 432x288 with 1 Axes\u003e"
            ]
          },
          "metadata": {
            "tags": []
          },
          "output_type": "display_data"
        }
      ],
      "source": [
        "images, labels = next(iter(mnist_test))\n",
        "logits = mlp(images)\n",
        "  \n",
        "prediction = tf.argmax(logits[0]).numpy()\n",
        "actual = labels[0].numpy()\n",
        "print(\"Predicted class: {} actual class: {}\".format(prediction, actual))\n",
        "plt.imshow(images[0]);"
      ]
    },
    {
      "cell_type": "markdown",
      "metadata": {
        "colab_type": "text",
        "id": "V297xpzfobXK"
      },
      "source": [
        "## Training the model"
      ]
    },
    {
      "cell_type": "markdown",
      "metadata": {
        "colab_type": "text",
        "id": "WTrv-jn4pPSx"
      },
      "source": [
        "To train the model we need an optimizer. For this simple example we'll use Stochastic Gradient Descent which is implemented in the `SGD` optimizer. To compute gradients we'll use a `tf.GradientTape` which allows us to selectively record gradients only for the computation we want to back propagate through:"
      ]
    },
    {
      "cell_type": "code",
      "execution_count": 0,
      "metadata": {
        "cellView": "form",
        "colab": {},
        "colab_type": "code",
        "id": "V7gi8NQ-WZOl"
      },
      "outputs": [],
      "source": [
        "#@title Utility function to show progress bar.\n",
        "from tqdm import tqdm\n",
        "\n",
        "# MNIST training set has 60k images.\n",
        "num_images = 60000\n",
        "\n",
        "def progress_bar(generator):\n",
        "  return tqdm(\n",
        "      generator,\n",
        "      unit='images',\n",
        "      unit_scale=batch_size,\n",
        "      total=(num_images // batch_size) * num_epochs)\n"
      ]
    },
    {
      "cell_type": "code",
      "execution_count": 0,
      "metadata": {
        "colab": {
          "base_uri": "https://localhost:8080/",
          "height": 84
        },
        "colab_type": "code",
        "id": "UUkshshiK6Eq",
        "outputId": "0db0e20d-f6f1-4a33-884c-5e0f2240736a"
      },
      "outputs": [
        {
          "name": "stderr",
          "output_type": "stream",
          "text": [
            "100%|██████████| 600000/600000 [00:41\u003c00:00, 14552.01images/s]"
          ]
        },
        {
          "name": "stdout",
          "output_type": "stream",
          "text": [
            "\n",
            "\n",
            "Final loss: 0.012512625195086002\n"
          ]
        },
        {
          "name": "stderr",
          "output_type": "stream",
          "text": [
            "\n"
          ]
        }
      ],
      "source": [
        "opt = snt.optimizers.SGD(learning_rate=0.1)\n",
        "\n",
        "num_epochs = 10\n",
        "\n",
        "def step(images, labels):\n",
        "  \"\"\"Performs one optimizer step on a single mini-batch.\"\"\"\n",
        "  with tf.GradientTape() as tape:\n",
        "    logits = mlp(images)\n",
        "    loss = tf.nn.sparse_softmax_cross_entropy_with_logits(logits=logits,\n",
        "                                                          labels=labels)\n",
        "    loss = tf.reduce_mean(loss)\n",
        "\n",
        "  params = mlp.trainable_variables\n",
        "  grads = tape.gradient(loss, params)\n",
        "  opt.apply(grads, params)\n",
        "  return loss\n",
        "\n",
        "for images, labels in progress_bar(mnist_train.repeat(num_epochs)):\n",
        "  loss = step(images, labels)\n",
        "\n",
        "print(\"\\n\\nFinal loss: {}\".format(loss.numpy()))"
      ]
    },
    {
      "cell_type": "markdown",
      "metadata": {
        "colab_type": "text",
        "id": "2K0_eoR8og-G"
      },
      "source": [
        "## Evaluating the model"
      ]
    },
    {
      "cell_type": "markdown",
      "metadata": {
        "colab_type": "text",
        "id": "Cm_9RMJopgWc"
      },
      "source": [
        "We'll do very simple analysis of the model to get a feeling for how well it does against this dataset:"
      ]
    },
    {
      "cell_type": "code",
      "execution_count": 0,
      "metadata": {
        "colab": {
          "base_uri": "https://localhost:8080/",
          "height": 34
        },
        "colab_type": "code",
        "id": "PM7IPcOeXtxH",
        "outputId": "44fa0815-5c83-4f0f-cb2f-49346550300e"
      },
      "outputs": [
        {
          "name": "stdout",
          "output_type": "stream",
          "text": [
            "Got 9795/10000 (97.95%) correct\n"
          ]
        }
      ],
      "source": [
        "total = 0\n",
        "correct = 0\n",
        "for images, labels in mnist_test:\n",
        "  predictions = tf.argmax(mlp(images), axis=1)\n",
        "  correct += tf.math.count_nonzero(tf.equal(predictions, labels))\n",
        "  total += images.shape[0]\n",
        "\n",
        "print(\"Got %d/%d (%.02f%%) correct\" % (correct, total, correct / total * 100.))"
      ]
    },
    {
      "cell_type": "markdown",
      "metadata": {
        "colab_type": "text",
        "id": "Lnkc55PtqA_I"
      },
      "source": [
        "To understand the result a bit better, lets take a look at a small sample of where the model correctly identified the digits:"
      ]
    },
    {
      "cell_type": "code",
      "execution_count": 0,
      "metadata": {
        "cellView": "form",
        "colab": {},
        "colab_type": "code",
        "id": "eFro_RB4YR-X"
      },
      "outputs": [],
      "source": [
        "#@title Utility function to show a sample of images.\n",
        "def sample(correct, rows, cols):\n",
        "  n = 0\n",
        "\n",
        "  f, ax = plt.subplots(rows, cols)\n",
        "  if rows \u003e 1:    \n",
        "    ax = tf.nest.flatten([tuple(ax[i]) for i in range(rows)])\n",
        "  f.set_figwidth(14)\n",
        "  f.set_figheight(4 * rows)\n",
        "\n",
        "\n",
        "  for images, labels in mnist_test:\n",
        "    predictions = tf.argmax(mlp(images), axis=1)\n",
        "    eq = tf.equal(predictions, labels)\n",
        "    for i, x in enumerate(eq):\n",
        "      if x.numpy() == correct:\n",
        "        label = labels[i]\n",
        "        prediction = predictions[i]\n",
        "        image = images[i]\n",
        "\n",
        "        ax[n].imshow(image)\n",
        "        ax[n].set_title(\"Prediction:{}\\nActual:{}\".format(prediction, label))\n",
        "\n",
        "        n += 1\n",
        "        if n == (rows * cols):\n",
        "          break\n",
        "\n",
        "    if n == (rows * cols):\n",
        "      break"
      ]
    },
    {
      "cell_type": "code",
      "execution_count": 0,
      "metadata": {
        "colab": {
          "base_uri": "https://localhost:8080/",
          "height": 214
        },
        "colab_type": "code",
        "id": "PSamdka2dodW",
        "outputId": "bdf24a9e-4bae-4401-a211-2a8e874546ab"
      },
      "outputs": [
        {
          "data": {
            "image/png": "[encoded data removed]",
            "text/plain": [
              "\u003cFigure size 1008x288 with 5 Axes\u003e"
            ]
          },
          "metadata": {
            "tags": []
          },
          "output_type": "display_data"
        }
      ],
      "source": [
        "sample(correct=True, rows=1, cols=5)"
      ]
    },
    {
      "cell_type": "markdown",
      "metadata": {
        "colab_type": "text",
        "id": "hzHp02F_pzdh"
      },
      "source": [
        "Now lets take a look at where it incorrectly classifies the input. MNIST has some rather dubious handwriting, I'm sure you'll agree that some of the samples below are a little ambiguous:"
      ]
    },
    {
      "cell_type": "code",
      "execution_count": 0,
      "metadata": {
        "colab": {
          "base_uri": "https://localhost:8080/",
          "height": 451
        },
        "colab_type": "code",
        "id": "KQe5Q9LNdnb0",
        "outputId": "fb0db343-fb2c-46bf-baa6-84821fac9f71"
      },
      "outputs": [
        {
          "data": {
            "image/png": "[encoded data removed]",
            "text/plain": [
              "\u003cFigure size 1008x576 with 10 Axes\u003e"
            ]
          },
          "metadata": {
            "tags": []
          },
          "output_type": "display_data"
        }
      ],
      "source": [
        "sample(correct=False, rows=2, cols=5)"
      ]
    }
  ],
  "metadata": {
    "accelerator": "GPU",
    "colab": {
      "collapsed_sections": [],
      "last_runtime": {
        "build_target": "//learning/deepmind/dm_python:dm_notebook",
        "kind": "private"
      },
      "name": "Sonnet 2 \"Hello, world!\" (aka. MLP on MNIST)",
      "provenance": [],
      "toc_visible": true,
      "version": "0.3.2"
    },
    "kernelspec": {
      "display_name": "Python 2",
      "name": "python2"
    }
  },
  "nbformat": 4,
  "nbformat_minor": 0
}
